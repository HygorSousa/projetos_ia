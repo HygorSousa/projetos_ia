{
 "metadata": {
  "language_info": {
   "codemirror_mode": {
    "name": "ipython",
    "version": 3
   },
   "file_extension": ".py",
   "mimetype": "text/x-python",
   "name": "python",
   "nbconvert_exporter": "python",
   "pygments_lexer": "ipython3",
   "version": "3.7.3-final"
  },
  "orig_nbformat": 2,
  "kernelspec": {
   "name": "Python 3.7.3 64-bit",
   "display_name": "Python 3.7.3 64-bit",
   "metadata": {
    "interpreter": {
     "hash": "916dbcbb3f70747c44a77c7bcd40155683ae19c65e1c03b4aa3499c5328201f1"
    }
   }
  }
 },
 "nbformat": 4,
 "nbformat_minor": 2,
 "cells": [
  {
   "source": [
    "Especificações do Ambiente:\n",
    "- Debian Buster (v.10)\n",
    "- Python 3.7.3\n",
    "- Vs Code v.1.49\n",
    "\n",
    "Para execução desse projeto foram necessárias a instalações dos seguintes pacotes:\n",
    "- Python Wheel\n",
    "- Speech Recognition\n",
    "- PyAudio\n",
    "- Pocket Sphinx\n",
    "- Google Api Python Client\n",
    "- Youtube DL\n",
    "- FFMpeg"
   ],
   "cell_type": "markdown",
   "metadata": {}
  },
  {
   "cell_type": "code",
   "execution_count": null,
   "metadata": {
    "tags": []
   },
   "outputs": [],
   "source": [
    "!pip3 install wheel\n",
    "!pip3 install SpeechRecognition\n",
    "!pip3 install pyaudio\n",
    "!pip3 install pocketsphinx\n",
    "!pip3 install google-api-python-client\n",
    "!pip3 install youtube-dl\n",
    "!sudo apt install ffmpeg"
   ]
  },
  {
   "source": [
    "Importação das bibliotecas necessárias para o funcionamento do projeto"
   ],
   "cell_type": "markdown",
   "metadata": {}
  },
  {
   "cell_type": "code",
   "execution_count": null,
   "metadata": {},
   "outputs": [],
   "source": [
    "import speech_recognition as sr"
   ]
  },
  {
   "source": [
    "No bloco abaixo, instancializamos o Recognizer qu eé o responsável por fazer o reconhecimento do audio e a transcrição para texto, assim como utilizamos da biblioteca Speech Recognition para instancializar o Microfone utilizado para captar a voz do usuário."
   ],
   "cell_type": "markdown",
   "metadata": {}
  },
  {
   "cell_type": "code",
   "execution_count": null,
   "metadata": {
    "tags": []
   },
   "outputs": [],
   "source": [
    "r = sr.Recognizer()\n",
    "with sr.Microphone() as mic:\n",
    "    print(\"Fale:\")\n",
    "    record = r.listen(mic)"
   ]
  },
  {
   "source": [
    "Capturado o áudio com a função `listen()`, utilizaremos a função `recognize_google()` para fazer a transcrição do texto passando o parametro `language=\"pt-BR\"` para indicarmos que o idioma do áudio é Português - Brasil."
   ],
   "cell_type": "markdown",
   "metadata": {}
  },
  {
   "cell_type": "code",
   "execution_count": null,
   "metadata": {
    "tags": []
   },
   "outputs": [],
   "source": [
    "try:\n",
    "    print(\"Você disse: \" + r.recognize_google(record, language=\"pt-BR\"))\n",
    "except sr.UnknownValueError:\n",
    "    print(\"Não foi possível entender o que você disse!\")\n",
    "except sr.RequestError as e:\n",
    "    print(\"Could not request results; {0}\".format(e))"
   ]
  },
  {
   "source": [
    "Utilizando ainda do áudio capturado do usuário, podemos salvar o texto dentro de um arquivo `.txt`."
   ],
   "cell_type": "markdown",
   "metadata": {}
  },
  {
   "cell_type": "code",
   "execution_count": null,
   "metadata": {},
   "outputs": [],
   "source": [
    "text_file = open(\"texto_falado.txt\", \"w\")\n",
    "n = text_file.write(r.recognize_google(record, language=\"pt-BR\"))\n",
    "text_file.close()"
   ]
  },
  {
   "source": [
    "Levando em consideração a aplicação anterior, a biblioteca `Speech Recognition` também disponibiliza a opção de fazermos a transcrição de um arquivo de áudio retirado de um vídeo do youtube.\n",
    "Para realizarmos essa funcionalidade, além da biblioteca `Speech Recognition` também utilizaremos a `YouTube DL` para fazer o download do áudio de um vídeo do youtube. Para trazermos o áudio no formato `.wav`, utilizamos do recurso de parâmetros para definirmos as nossa preferências."
   ],
   "cell_type": "markdown",
   "metadata": {}
  },
  {
   "cell_type": "code",
   "execution_count": null,
   "metadata": {
    "tags": []
   },
   "outputs": [],
   "source": [
    "from __future__ import unicode_literals\n",
    "import youtube_dl\n",
    "\n",
    "ydl_opts = {\n",
    "    'format': 'bestaudio/best',\n",
    "    'postprocessors': [{\n",
    "        'key': 'FFmpegExtractAudio',\n",
    "        'preferredcodec': 'wav',\n",
    "        'preferredquality': '192',\n",
    "    }],\n",
    "}\n",
    "\n",
    "with youtube_dl.YoutubeDL(ydl_opts) as ydl:\n",
    "    print(\"Baixando / Convertendo o vídeo\")\n",
    "    ydl.download(['https://www.youtube.com/watch?v=Tx0DFkv7ifA'])\n",
    "print(\"Pronto!\")"
   ]
  },
  {
   "source": [
    "Feito o download e conversão do vídeo é necessário renomear o arquivo para *audio.wav* para que seja feita a transcrição do arquivo."
   ],
   "cell_type": "markdown",
   "metadata": {}
  },
  {
   "cell_type": "code",
   "execution_count": null,
   "metadata": {},
   "outputs": [],
   "source": [
    "arq_audio = sr.AudioFile('audio.wav')\n",
    "with arq_audio as source:\n",
    "    rec_file = r.record(source)"
   ]
  },
  {
   "source": [
    "Diferentemente do modo onde usamos o microfone, dessa vez utilizamos os dois métodos `AudioFile()` e o `record()` para capturamos o audio. E igualmente iremos utilizar o método `recognize_google()` para transcrever o áudio e salvar em um arquivo `.txt`"
   ],
   "cell_type": "markdown",
   "metadata": {}
  },
  {
   "cell_type": "code",
   "execution_count": null,
   "metadata": {},
   "outputs": [],
   "source": [
    "text_file = open(\"texto_video.txt\", \"w\")\n",
    "texto = r.recognize_google(rec_file, language=\"pt-BR\")\n",
    "n = text_file.write(texto)\n",
    "text_file.close()"
   ]
  }
 ]
}