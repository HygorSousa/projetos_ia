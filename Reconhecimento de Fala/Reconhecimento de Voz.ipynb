{
 "metadata": {
  "language_info": {
   "codemirror_mode": {
    "name": "ipython",
    "version": 3
   },
   "file_extension": ".py",
   "mimetype": "text/x-python",
   "name": "python",
   "nbconvert_exporter": "python",
   "pygments_lexer": "ipython3",
   "version": "3.7.3-final"
  },
  "orig_nbformat": 2,
  "kernelspec": {
   "name": "Python 3.7.3 64-bit",
   "display_name": "Python 3.7.3 64-bit",
   "metadata": {
    "interpreter": {
     "hash": "916dbcbb3f70747c44a77c7bcd40155683ae19c65e1c03b4aa3499c5328201f1"
    }
   }
  }
 },
 "nbformat": 4,
 "nbformat_minor": 2,
 "cells": [
  {
   "cell_type": "code",
   "execution_count": 34,
   "metadata": {
    "tags": []
   },
   "outputs": [
    {
     "output_type": "stream",
     "name": "stdout",
     "text": "Requirement already satisfied: wheel in /usr/lib/python3/dist-packages (0.32.3)\nRequirement already satisfied: SpeechRecognition in /home/hygor/.local/lib/python3.7/site-packages (3.8.1)\nRequirement already satisfied: pyaudio in /usr/lib/python3/dist-packages (0.2.11)\nRequirement already satisfied: pocketsphinx in /home/hygor/.local/lib/python3.7/site-packages (0.1.15)\nRequirement already satisfied: google-api-python-client in /home/hygor/.local/lib/python3.7/site-packages (1.12.3)\nRequirement already satisfied: six&lt;2dev,&gt;=1.13.0 in /home/hygor/.local/lib/python3.7/site-packages (from google-api-python-client) (1.15.0)\nRequirement already satisfied: google-auth&gt;=1.16.0 in /home/hygor/.local/lib/python3.7/site-packages (from google-api-python-client) (1.22.1)\nRequirement already satisfied: google-auth-httplib2&gt;=0.0.3 in /home/hygor/.local/lib/python3.7/site-packages (from google-api-python-client) (0.0.4)\nRequirement already satisfied: httplib2&lt;1dev,&gt;=0.15.0 in /home/hygor/.local/lib/python3.7/site-packages (from google-api-python-client) (0.18.1)\nRequirement already satisfied: uritemplate&lt;4dev,&gt;=3.0.0 in /home/hygor/.local/lib/python3.7/site-packages (from google-api-python-client) (3.0.1)\nRequirement already satisfied: google-api-core&lt;2dev,&gt;=1.21.0 in /home/hygor/.local/lib/python3.7/site-packages (from google-api-python-client) (1.22.4)\nRequirement already satisfied: pyasn1-modules&gt;=0.2.1 in /home/hygor/.local/lib/python3.7/site-packages (from google-auth&gt;=1.16.0-&gt;google-api-python-client) (0.2.8)\nRequirement already satisfied: setuptools&gt;=40.3.0 in /usr/lib/python3/dist-packages (from google-auth&gt;=1.16.0-&gt;google-api-python-client) (40.8.0)\nRequirement already satisfied: cachetools&lt;5.0,&gt;=2.0.0 in /home/hygor/.local/lib/python3.7/site-packages (from google-auth&gt;=1.16.0-&gt;google-api-python-client) (4.1.1)\nRequirement already satisfied: rsa&lt;5,&gt;=3.1.4; python_version &gt;= &quot;3.5&quot; in /home/hygor/.local/lib/python3.7/site-packages (from google-auth&gt;=1.16.0-&gt;google-api-python-client) (4.6)\nRequirement already satisfied: protobuf&gt;=3.12.0 in /home/hygor/.local/lib/python3.7/site-packages (from google-api-core&lt;2dev,&gt;=1.21.0-&gt;google-api-python-client) (3.13.0)\nRequirement already satisfied: pytz in /usr/lib/python3/dist-packages (from google-api-core&lt;2dev,&gt;=1.21.0-&gt;google-api-python-client) (2019.1)\nRequirement already satisfied: googleapis-common-protos&lt;2.0dev,&gt;=1.6.0 in /home/hygor/.local/lib/python3.7/site-packages (from google-api-core&lt;2dev,&gt;=1.21.0-&gt;google-api-python-client) (1.52.0)\nRequirement already satisfied: requests&lt;3.0.0dev,&gt;=2.18.0 in /usr/lib/python3/dist-packages (from google-api-core&lt;2dev,&gt;=1.21.0-&gt;google-api-python-client) (2.21.0)\nCollecting pyasn1&lt;0.5.0,&gt;=0.4.6 (from pyasn1-modules&gt;=0.2.1-&gt;google-auth&gt;=1.16.0-&gt;google-api-python-client)\n  Using cached https://files.pythonhosted.org/packages/62/1e/a94a8d635fa3ce4cfc7f506003548d0a2447ae76fd5ca53932970fe3053f/pyasn1-0.4.8-py2.py3-none-any.whl\nInstalling collected packages: pyasn1\nSuccessfully installed pyasn1-0.4.8\nRequirement already satisfied: youtube-dl in /home/hygor/.local/lib/python3.7/site-packages (2020.9.20)\n[sudo] senha para hygor: "
    }
   ],
   "source": [
    "!pip3 install wheel\n",
    "!pip3 install SpeechRecognition\n",
    "!pip3 install pyaudio\n",
    "!pip3 install pocketsphinx\n",
    "!pip3 install google-api-python-client\n",
    "!pip3 install youtube-dl\n",
    "!sudo apt install ffmpeg"
   ]
  },
  {
   "cell_type": "code",
   "execution_count": 25,
   "metadata": {},
   "outputs": [],
   "source": [
    "import speech_recognition as sr"
   ]
  },
  {
   "cell_type": "code",
   "execution_count": 28,
   "metadata": {
    "tags": []
   },
   "outputs": [
    {
     "output_type": "stream",
     "name": "stdout",
     "text": "Fale:\n"
    }
   ],
   "source": [
    "r = sr.Recognizer()\n",
    "with sr.Microphone() as mic:\n",
    "    print(\"Fale:\")\n",
    "    record = r.listen(mic)"
   ]
  },
  {
   "cell_type": "code",
   "execution_count": 29,
   "metadata": {
    "tags": []
   },
   "outputs": [
    {
     "output_type": "stream",
     "name": "stdout",
     "text": "Você disse: Tô testando o reconhecimento de voz\n"
    }
   ],
   "source": [
    "try:\n",
    "    print(\"Você disse: \" + r.recognize_google(record, language=\"pt-BR\"))\n",
    "except sr.UnknownValueError:\n",
    "    print(\"Não foi possível entender o que você disse!\")\n",
    "except sr.RequestError as e:\n",
    "    print(\"Could not request results; {0}\".format(e))"
   ]
  },
  {
   "cell_type": "code",
   "execution_count": 30,
   "metadata": {},
   "outputs": [],
   "source": [
    "text_file = open(\"texto_falado.txt\", \"w\")\n",
    "n = text_file.write(r.recognize_google(record, language=\"pt-BR\"))\n",
    "text_file.close()"
   ]
  },
  {
   "cell_type": "code",
   "execution_count": 55,
   "metadata": {
    "tags": []
   },
   "outputs": [
    {
     "output_type": "stream",
     "name": "stdout",
     "text": "Baixando / Convertendo o vídeo\nPronto!\n"
    }
   ],
   "source": [
    "from __future__ import unicode_literals\n",
    "import youtube_dl\n",
    "\n",
    "ydl_opts = {\n",
    "    'format': 'bestaudio/best',\n",
    "    'postprocessors': [{\n",
    "        'key': 'FFmpegExtractAudio',\n",
    "        'preferredcodec': 'wav',\n",
    "        'preferredquality': '192',\n",
    "    }],\n",
    "}\n",
    "\n",
    "with youtube_dl.YoutubeDL(ydl_opts) as ydl:\n",
    "    print(\"Baixando / Convertendo o vídeo\")\n",
    "    ydl.download(['https://www.youtube.com/watch?v=Tx0DFkv7ifA'])\n",
    "print(\"Pronto!\")"
   ]
  },
  {
   "cell_type": "code",
   "execution_count": 56,
   "metadata": {},
   "outputs": [],
   "source": [
    "arq_audio = sr.AudioFile('audio.wav')\n",
    "with arq_audio as source:\n",
    "    rec_file = r.record(source)"
   ]
  },
  {
   "cell_type": "code",
   "execution_count": 57,
   "metadata": {},
   "outputs": [],
   "source": [
    "text_file = open(\"texto_video.txt\", \"w\")\n",
    "texto = r.recognize_google(rec_file, language=\"pt-BR\")\n",
    "n = text_file.write(texto)\n",
    "text_file.close()"
   ]
  },
  {
   "cell_type": "code",
   "execution_count": null,
   "metadata": {},
   "outputs": [],
   "source": []
  }
 ]
}