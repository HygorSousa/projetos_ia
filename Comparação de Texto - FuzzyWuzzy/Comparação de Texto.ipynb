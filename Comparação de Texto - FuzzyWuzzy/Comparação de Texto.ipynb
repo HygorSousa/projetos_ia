{
 "metadata": {
  "language_info": {
   "codemirror_mode": {
    "name": "ipython",
    "version": 3
   },
   "file_extension": ".py",
   "mimetype": "text/x-python",
   "name": "python",
   "nbconvert_exporter": "python",
   "pygments_lexer": "ipython3",
   "version": "3.7.3-final"
  },
  "orig_nbformat": 2,
  "kernelspec": {
   "name": "Python 3.7.3 64-bit",
   "display_name": "Python 3.7.3 64-bit",
   "metadata": {
    "interpreter": {
     "hash": "916dbcbb3f70747c44a77c7bcd40155683ae19c65e1c03b4aa3499c5328201f1"
    }
   }
  }
 },
 "nbformat": 4,
 "nbformat_minor": 2,
 "cells": [
  {
   "source": [
    "Continuando com o teste das Bibliotecas Python, desse vez iremo utilizar da `FuzzyWuzzy` a fim de testar a comparação de textos."
   ],
   "cell_type": "markdown",
   "metadata": {}
  },
  {
   "cell_type": "code",
   "execution_count": 1,
   "metadata": {},
   "outputs": [
    {
     "output_type": "stream",
     "name": "stdout",
     "text": [
      "Collecting fuzzywuzzy\n",
      "  Downloading https://files.pythonhosted.org/packages/43/ff/74f23998ad2f93b945c0309f825be92e04e0348e062026998b5eefef4c33/fuzzywuzzy-0.18.0-py2.py3-none-any.whl\n",
      "Installing collected packages: fuzzywuzzy\n",
      "Successfully installed fuzzywuzzy-0.18.0\n",
      "Collecting python-Levenshtein\n",
      "\u001b[?25l  Downloading https://files.pythonhosted.org/packages/42/a9/d1785c85ebf9b7dfacd08938dd028209c34a0ea3b1bcdb895208bd40a67d/python-Levenshtein-0.12.0.tar.gz (48kB)\n",
      "\u001b[K    100% |████████████████████████████████| 51kB 441kB/s \n",
      "\u001b[?25hRequirement already satisfied: setuptools in /usr/lib/python3/dist-packages (from python-Levenshtein) (40.8.0)\n",
      "Building wheels for collected packages: python-Levenshtein\n",
      "  Running setup.py bdist_wheel for python-Levenshtein ... \u001b[?25ldone\n",
      "\u001b[?25h  Stored in directory: /home/hygor/.cache/pip/wheels/de/c2/93/660fd5f7559049268ad2dc6d81c4e39e9e36518766eaf7e342\n",
      "Successfully built python-Levenshtein\n",
      "Installing collected packages: python-Levenshtein\n",
      "Successfully installed python-Levenshtein-0.12.0\n"
     ]
    }
   ],
   "source": [
    "!pip3 install fuzzywuzzy\n",
    "!pip3 install python-Levenshtein"
   ]
  },
  {
   "cell_type": "code",
   "execution_count": 7,
   "metadata": {},
   "outputs": [],
   "source": [
    "from fuzzywuzzy import fuzz \n",
    "from fuzzywuzzy import process "
   ]
  },
  {
   "cell_type": "code",
   "execution_count": 8,
   "metadata": {},
   "outputs": [
    {
     "output_type": "stream",
     "name": "stdout",
     "text": [
      "A primeira frase é 83 porcento igual a segunda frase!\n"
     ]
    }
   ],
   "source": [
    "rate = fuzz.ratio('Testando a lib Fuzzy Wuzzy', 'Testando a biblioteca Fuzzy Wuzzy!')\n",
    "print(\"A primeira frase é\", rate ,\"porcento igual a segunda frase!\")"
   ]
  },
  {
   "cell_type": "code",
   "execution_count": 9,
   "metadata": {},
   "outputs": [
    {
     "output_type": "stream",
     "name": "stdout",
     "text": [
      "A primeira frase é 100 porcento igual a segunda frase!\n"
     ]
    }
   ],
   "source": [
    "rate = fuzz.partial_ratio('Testando a lib Fuzzy Wuzzy', 'Testando a lib Fuzzy Wuzzy!')\n",
    "print(\"A primeira frase é\", rate ,\"porcento igual a segunda frase!\")"
   ]
  },
  {
   "cell_type": "code",
   "execution_count": 10,
   "metadata": {},
   "outputs": [
    {
     "output_type": "stream",
     "name": "stdout",
     "text": [
      "A primeira frase é 69 porcento igual a segunda frase!\n"
     ]
    }
   ],
   "source": [
    "rate = fuzz.partial_ratio('Testando a lib Fuzzy Wuzzy', 'Testando a biblioteca Fuzzy Wuzzy!')\n",
    "print(\"A primeira frase é\", rate ,\"porcento igual a segunda frase!\")"
   ]
  },
  {
   "cell_type": "code",
   "execution_count": 11,
   "metadata": {},
   "outputs": [
    {
     "output_type": "stream",
     "name": "stdout",
     "text": [
      "A transcrição do vídeo é 92 porcento igual a letra original!\n"
     ]
    }
   ],
   "source": [
    "with open(\"texto_video.txt\") as video, open(\"letra.txt\") as letra:\n",
    "    texto_video = video.read()\n",
    "    texto_letra = letra.read()\n",
    "    rate = fuzz.ratio(texto_video, texto_letra)\n",
    "print(\"A transcrição do vídeo é\", rate ,\"porcento igual a letra original!\")\n"
   ]
  },
  {
   "cell_type": "code",
   "execution_count": 13,
   "metadata": {},
   "outputs": [
    {
     "output_type": "stream",
     "name": "stdout",
     "text": [
      "A transcrição do vídeo é 90 porcento igual a letra original!\n"
     ]
    }
   ],
   "source": [
    "with open(\"texto_video.txt\") as video, open(\"letra.txt\") as letra:\n",
    "    texto_video = video.read()\n",
    "    texto_letra = letra.read()\n",
    "    rate = fuzz.partial_ratio(texto_video, texto_letra)\n",
    "print(\"A transcrição do vídeo é\", rate ,\"porcento igual a letra original!\")"
   ]
  },
  {
   "cell_type": "code",
   "execution_count": null,
   "metadata": {},
   "outputs": [],
   "source": []
  }
 ]
}